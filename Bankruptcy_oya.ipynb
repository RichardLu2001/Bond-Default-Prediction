{
 "cells": [
  {
   "cell_type": "markdown",
   "metadata": {},
   "source": [
    "# Problem description\n",
    "\n",
    "You are to predict whether a company will go bankrupt in the following year, based on financial attributes of the company.\n",
    "\n",
    "Perhaps you are contemplating lending money to a company, and need to know whether the company\n",
    "is in near-term danger of not being able to repay.\n"
   ]
  },
  {
   "cell_type": "markdown",
   "metadata": {},
   "source": [
    "## Goal"
   ]
  },
  {
   "cell_type": "markdown",
   "metadata": {
    "slideshow": {
     "slide_type": "fragment"
    }
   },
   "source": [
    "## Learning objectives\n",
    "\n",
    "- Demonstrate mastery on solving a classification problem and presenting\n",
    "the entire Recipe for Machine Learning process in a notebook.\n",
    "- We will make suggestions for ways to approach the problem\n",
    "    - But there will be little explicit direction for this task.\n",
    "- It is meant to be analogous to a pre-interview task that a potential employer might assign\n",
    "to verify your skill"
   ]
  },
  {
   "cell_type": "markdown",
   "metadata": {},
   "source": [
    "# Import modules"
   ]
  },
  {
   "cell_type": "code",
   "execution_count": 1,
   "metadata": {},
   "outputs": [],
   "source": [
    "## Standard imports\n",
    "import numpy as np\n",
    "import pandas as pd\n",
    "import matplotlib.pyplot as plt\n",
    "\n",
    "import sklearn\n",
    "\n",
    "import os\n",
    "import math\n",
    "\n",
    "%matplotlib inline\n"
   ]
  },
  {
   "cell_type": "markdown",
   "metadata": {},
   "source": [
    "# API for students"
   ]
  },
  {
   "cell_type": "code",
   "execution_count": 2,
   "metadata": {},
   "outputs": [],
   "source": [
    "## Load the bankruptcy_helper module\n",
    "\n",
    "from IPython.core.interactiveshell import InteractiveShell\n",
    "InteractiveShell.ast_node_interactivity = \"all\"\n",
    "\n",
    "# Reload all modules imported with %aimport\n",
    "%load_ext autoreload\n",
    "%autoreload 1\n",
    "\n",
    "# Import bankruptcy_helper module\n",
    "import bankruptcy_helper\n",
    "%aimport bankruptcy_helper\n",
    "\n",
    "helper = bankruptcy_helper.Helper()"
   ]
  },
  {
   "cell_type": "markdown",
   "metadata": {},
   "source": [
    "# Get the data\n",
    "\n",
    "The first step in our Recipe is Get the Data.\n",
    "\n",
    "- Each example is a row of data corresponding to a single company\n",
    "- There are 64 attributes, described in the section below\n",
    "- The column `Bankrupt` is 1 if the company subsequently went bankrupt; 0 if it did not go bankrupt\n",
    "- The column `Id` is a Company Identifier"
   ]
  },
  {
   "cell_type": "code",
   "execution_count": 3,
   "metadata": {},
   "outputs": [
    {
     "name": "stdout",
     "output_type": "stream",
     "text": [
      "Date shape:  (4818, 66)\n"
     ]
    }
   ],
   "source": [
    "# Data directory\n",
    "DATA_DIR = \"./Data\"\n",
    "\n",
    "if not os.path.isdir(DATA_DIR):\n",
    "    DATA_DIR = \"../resource/asnlib/publicdata/bankruptcy/data\"\n",
    "\n",
    "data_file = \"5th_yr.csv\"\n",
    "data = pd.read_csv( os.path.join(DATA_DIR, \"train\", data_file) )\n",
    "\n",
    "target_attr = \"Bankrupt\"\n",
    "\n",
    "n_samples, n_attrs = data.shape\n",
    "print(\"Date shape: \", data.shape)"
   ]
  },
  {
   "cell_type": "markdown",
   "metadata": {},
   "source": [
    "## Have a look at the data\n",
    "\n",
    "We will not go through all steps in the Recipe, nor in depth.\n",
    "\n",
    "But here's a peek"
   ]
  },
  {
   "cell_type": "code",
   "execution_count": 4,
   "metadata": {},
   "outputs": [
    {
     "data": {
      "text/html": [
       "<div>\n",
       "<style scoped>\n",
       "    .dataframe tbody tr th:only-of-type {\n",
       "        vertical-align: middle;\n",
       "    }\n",
       "\n",
       "    .dataframe tbody tr th {\n",
       "        vertical-align: top;\n",
       "    }\n",
       "\n",
       "    .dataframe thead th {\n",
       "        text-align: right;\n",
       "    }\n",
       "</style>\n",
       "<table border=\"1\" class=\"dataframe\">\n",
       "  <thead>\n",
       "    <tr style=\"text-align: right;\">\n",
       "      <th></th>\n",
       "      <th>X1</th>\n",
       "      <th>X2</th>\n",
       "      <th>X3</th>\n",
       "      <th>X4</th>\n",
       "      <th>X5</th>\n",
       "      <th>X6</th>\n",
       "      <th>X7</th>\n",
       "      <th>X8</th>\n",
       "      <th>X9</th>\n",
       "      <th>X10</th>\n",
       "      <th>...</th>\n",
       "      <th>X57</th>\n",
       "      <th>X58</th>\n",
       "      <th>X59</th>\n",
       "      <th>X60</th>\n",
       "      <th>X61</th>\n",
       "      <th>X62</th>\n",
       "      <th>X63</th>\n",
       "      <th>X64</th>\n",
       "      <th>Bankrupt</th>\n",
       "      <th>Id</th>\n",
       "    </tr>\n",
       "  </thead>\n",
       "  <tbody>\n",
       "    <tr>\n",
       "      <th>0</th>\n",
       "      <td>0.025417</td>\n",
       "      <td>0.41769</td>\n",
       "      <td>0.0568</td>\n",
       "      <td>1.1605</td>\n",
       "      <td>-126.39</td>\n",
       "      <td>0.41355</td>\n",
       "      <td>0.025417</td>\n",
       "      <td>1.2395</td>\n",
       "      <td>1.16500</td>\n",
       "      <td>0.51773</td>\n",
       "      <td>...</td>\n",
       "      <td>0.049094</td>\n",
       "      <td>0.85835</td>\n",
       "      <td>0.12322</td>\n",
       "      <td>5.6167</td>\n",
       "      <td>7.4042</td>\n",
       "      <td>164.310</td>\n",
       "      <td>2.2214</td>\n",
       "      <td>1.334</td>\n",
       "      <td>0</td>\n",
       "      <td>4510</td>\n",
       "    </tr>\n",
       "    <tr>\n",
       "      <th>1</th>\n",
       "      <td>-0.023834</td>\n",
       "      <td>0.2101</td>\n",
       "      <td>0.50839</td>\n",
       "      <td>4.2374</td>\n",
       "      <td>22.034</td>\n",
       "      <td>0.058412</td>\n",
       "      <td>-0.027621</td>\n",
       "      <td>3.6579</td>\n",
       "      <td>0.98183</td>\n",
       "      <td>0.76855</td>\n",
       "      <td>...</td>\n",
       "      <td>-0.031011</td>\n",
       "      <td>1.01850</td>\n",
       "      <td>0.069047</td>\n",
       "      <td>5.7996</td>\n",
       "      <td>7.7529</td>\n",
       "      <td>26.446</td>\n",
       "      <td>13.802</td>\n",
       "      <td>6.4782</td>\n",
       "      <td>0</td>\n",
       "      <td>3537</td>\n",
       "    </tr>\n",
       "    <tr>\n",
       "      <th>2</th>\n",
       "      <td>0.030515</td>\n",
       "      <td>0.44606</td>\n",
       "      <td>0.19569</td>\n",
       "      <td>1.565</td>\n",
       "      <td>35.766</td>\n",
       "      <td>0.28196</td>\n",
       "      <td>0.039264</td>\n",
       "      <td>0.88456</td>\n",
       "      <td>1.05260</td>\n",
       "      <td>0.39457</td>\n",
       "      <td>...</td>\n",
       "      <td>0.077337</td>\n",
       "      <td>0.95006</td>\n",
       "      <td>0.25266</td>\n",
       "      <td>15.049</td>\n",
       "      <td>2.8179</td>\n",
       "      <td>104.730</td>\n",
       "      <td>3.4852</td>\n",
       "      <td>2.6361</td>\n",
       "      <td>0</td>\n",
       "      <td>3920</td>\n",
       "    </tr>\n",
       "    <tr>\n",
       "      <th>3</th>\n",
       "      <td>0.052318</td>\n",
       "      <td>0.056366</td>\n",
       "      <td>0.54562</td>\n",
       "      <td>10.68</td>\n",
       "      <td>438.2</td>\n",
       "      <td>0.13649</td>\n",
       "      <td>0.058164</td>\n",
       "      <td>10.853</td>\n",
       "      <td>1.02790</td>\n",
       "      <td>0.61173</td>\n",
       "      <td>...</td>\n",
       "      <td>0.085524</td>\n",
       "      <td>0.97282</td>\n",
       "      <td>0</td>\n",
       "      <td>6.0157</td>\n",
       "      <td>7.4626</td>\n",
       "      <td>48.756</td>\n",
       "      <td>7.4863</td>\n",
       "      <td>1.0602</td>\n",
       "      <td>0</td>\n",
       "      <td>1806</td>\n",
       "    </tr>\n",
       "    <tr>\n",
       "      <th>4</th>\n",
       "      <td>0.000992</td>\n",
       "      <td>0.49712</td>\n",
       "      <td>0.12316</td>\n",
       "      <td>1.3036</td>\n",
       "      <td>-71.398</td>\n",
       "      <td>0</td>\n",
       "      <td>0.001007</td>\n",
       "      <td>1.0116</td>\n",
       "      <td>1.29210</td>\n",
       "      <td>0.50288</td>\n",
       "      <td>...</td>\n",
       "      <td>0.001974</td>\n",
       "      <td>0.99925</td>\n",
       "      <td>0.019736</td>\n",
       "      <td>3.4819</td>\n",
       "      <td>8.582</td>\n",
       "      <td>114.580</td>\n",
       "      <td>3.1854</td>\n",
       "      <td>2.742</td>\n",
       "      <td>0</td>\n",
       "      <td>1529</td>\n",
       "    </tr>\n",
       "  </tbody>\n",
       "</table>\n",
       "<p>5 rows × 66 columns</p>\n",
       "</div>"
      ],
      "text/plain": [
       "          X1        X2       X3      X4       X5        X6         X7  \\\n",
       "0   0.025417   0.41769   0.0568  1.1605  -126.39   0.41355   0.025417   \n",
       "1  -0.023834    0.2101  0.50839  4.2374   22.034  0.058412  -0.027621   \n",
       "2   0.030515   0.44606  0.19569   1.565   35.766   0.28196   0.039264   \n",
       "3   0.052318  0.056366  0.54562   10.68    438.2   0.13649   0.058164   \n",
       "4   0.000992   0.49712  0.12316  1.3036  -71.398         0   0.001007   \n",
       "\n",
       "        X8       X9      X10  ...        X57      X58       X59     X60  \\\n",
       "0   1.2395  1.16500  0.51773  ...   0.049094  0.85835   0.12322  5.6167   \n",
       "1   3.6579  0.98183  0.76855  ...  -0.031011  1.01850  0.069047  5.7996   \n",
       "2  0.88456  1.05260  0.39457  ...   0.077337  0.95006   0.25266  15.049   \n",
       "3   10.853  1.02790  0.61173  ...   0.085524  0.97282         0  6.0157   \n",
       "4   1.0116  1.29210  0.50288  ...   0.001974  0.99925  0.019736  3.4819   \n",
       "\n",
       "      X61      X62     X63     X64  Bankrupt    Id  \n",
       "0  7.4042  164.310  2.2214   1.334         0  4510  \n",
       "1  7.7529   26.446  13.802  6.4782         0  3537  \n",
       "2  2.8179  104.730  3.4852  2.6361         0  3920  \n",
       "3  7.4626   48.756  7.4863  1.0602         0  1806  \n",
       "4   8.582  114.580  3.1854   2.742         0  1529  \n",
       "\n",
       "[5 rows x 66 columns]"
      ]
     },
     "execution_count": 4,
     "metadata": {},
     "output_type": "execute_result"
    }
   ],
   "source": [
    "data.head()"
   ]
  },
  {
   "cell_type": "markdown",
   "metadata": {},
   "source": [
    "Pretty *unhelpful* !\n",
    "\n",
    "What are these mysteriously named features ?\n",
    "\n",
    "## Description of attributes"
   ]
  },
  {
   "cell_type": "raw",
   "metadata": {},
   "source": [
    "Attribute Information:\n",
    "\n",
    "Id Company Identifier \n",
    "X1 net profit / total assets\n",
    "X2 total liabilities / total assets\n",
    "X3 working capital / total assets\n",
    "X4 current assets / short-term liabilities\n",
    "X5 [(cash + short-term securities + receivables - short-term liabilities) / (operating expenses - depreciation)] * 365\n",
    "X6 retained earnings / total assets\n",
    "X7 EBIT / total assets\n",
    "X8 book value of equity / total liabilities\n",
    "X9 sales / total assets\n",
    "X10 equity / total assets\n",
    "X11 (gross profit + extraordinary items + financial expenses) / total assets\n",
    "X12 gross profit / short-term liabilities\n",
    "X13 (gross profit + depreciation) / sales\n",
    "X14 (gross profit + interest) / total assets\n",
    "X15 (total liabilities * 365) / (gross profit + depreciation)\n",
    "X16 (gross profit + depreciation) / total liabilities\n",
    "X17 total assets / total liabilities\n",
    "X18 gross profit / total assets\n",
    "X19 gross profit / sales\n",
    "X20 (inventory * 365) / sales\n",
    "X21 sales (n) / sales (n-1)\n",
    "X22 profit on operating activities / total assets\n",
    "X23 net profit / sales\n",
    "X24 gross profit (in 3 years) / total assets\n",
    "X25 (equity - share capital) / total assets\n",
    "X26 (net profit + depreciation) / total liabilities\n",
    "X27 profit on operating activities / financial expenses\n",
    "X28 working capital / fixed assets\n",
    "X29 logarithm of total assets\n",
    "X30 (total liabilities - cash) / sales\n",
    "X31 (gross profit + interest) / sales\n",
    "X32 (current liabilities * 365) / cost of products sold\n",
    "X33 operating expenses / short-term liabilities\n",
    "X34 operating expenses / total liabilities\n",
    "X35 profit on sales / total assets\n",
    "X36 total sales / total assets\n",
    "X37 (current assets - inventories) / long-term liabilities\n",
    "X38 constant capital / total assets\n",
    "X39 profit on sales / sales\n",
    "X40 (current assets - inventory - receivables) / short-term liabilities\n",
    "X41 total liabilities / ((profit on operating activities + depreciation) * (12/365))\n",
    "X42 profit on operating activities / sales\n",
    "X43 rotation receivables + inventory turnover in days\n",
    "X44 (receivables * 365) / sales\n",
    "X45 net profit / inventory\n",
    "X46 (current assets - inventory) / short-term liabilities\n",
    "X47 (inventory * 365) / cost of products sold\n",
    "X48 EBITDA (profit on operating activities - depreciation) / total assets\n",
    "X49 EBITDA (profit on operating activities - depreciation) / sales\n",
    "X50 current assets / total liabilities\n",
    "X51 short-term liabilities / total assets\n",
    "X52 (short-term liabilities * 365) / cost of products sold)\n",
    "X53 equity / fixed assets\n",
    "X54 constant capital / fixed assets\n",
    "X55 working capital\n",
    "X56 (sales - cost of products sold) / sales\n",
    "X57 (current assets - inventory - short-term liabilities) / (sales - gross profit - depreciation)\n",
    "X58 total costs /total sales\n",
    "X59 long-term liabilities / equity\n",
    "X60 sales / inventory\n",
    "X61 sales / receivables\n",
    "X62 (short-term liabilities *365) / sales\n",
    "X63 sales / short-term liabilities\n",
    "X64 sales / fixed assets\n"
   ]
  },
  {
   "cell_type": "markdown",
   "metadata": {},
   "source": [
    "This may still be somewhat unhelpful for those of you not used to reading Financial Statements.\n",
    "\n",
    "But that's partially the point of the exercise\n",
    "- You can *still* perform Machine Learning *even if* you are not an expert in the problem domain\n",
    "    - That's what makes this a good interview exercise: you can demonstrate your thought process even if you don't know the exact meaning of the terms\n",
    "- Of course: becoming an expert in the domain *will improve* your ability to create better models\n",
    "    - Feature engineering is easier if you understand the features, their inter-relationships, and the relationship to the target"
   ]
  },
  {
   "cell_type": "markdown",
   "metadata": {},
   "source": [
    "Let's get a feel for the data\n",
    "- What is the type of each attribute ?\n"
   ]
  },
  {
   "cell_type": "code",
   "execution_count": 5,
   "metadata": {},
   "outputs": [
    {
     "name": "stdout",
     "output_type": "stream",
     "text": [
      "<class 'pandas.core.frame.DataFrame'>\n",
      "RangeIndex: 4818 entries, 0 to 4817\n",
      "Data columns (total 66 columns):\n",
      " #   Column    Non-Null Count  Dtype  \n",
      "---  ------    --------------  -----  \n",
      " 0   X1        4818 non-null   object \n",
      " 1   X2        4818 non-null   object \n",
      " 2   X3        4818 non-null   object \n",
      " 3   X4        4818 non-null   object \n",
      " 4   X5        4818 non-null   object \n",
      " 5   X6        4818 non-null   object \n",
      " 6   X7        4818 non-null   object \n",
      " 7   X8        4818 non-null   object \n",
      " 8   X9        4818 non-null   float64\n",
      " 9   X10       4818 non-null   object \n",
      " 10  X11       4818 non-null   object \n",
      " 11  X12       4818 non-null   object \n",
      " 12  X13       4818 non-null   float64\n",
      " 13  X14       4818 non-null   object \n",
      " 14  X15       4818 non-null   object \n",
      " 15  X16       4818 non-null   object \n",
      " 16  X17       4818 non-null   object \n",
      " 17  X18       4818 non-null   object \n",
      " 18  X19       4818 non-null   float64\n",
      " 19  X20       4818 non-null   float64\n",
      " 20  X21       4818 non-null   object \n",
      " 21  X22       4818 non-null   object \n",
      " 22  X23       4818 non-null   float64\n",
      " 23  X24       4818 non-null   object \n",
      " 24  X25       4818 non-null   object \n",
      " 25  X26       4818 non-null   object \n",
      " 26  X27       4818 non-null   object \n",
      " 27  X28       4818 non-null   object \n",
      " 28  X29       4818 non-null   object \n",
      " 29  X30       4818 non-null   float64\n",
      " 30  X31       4818 non-null   float64\n",
      " 31  X32       4818 non-null   object \n",
      " 32  X33       4818 non-null   object \n",
      " 33  X34       4818 non-null   object \n",
      " 34  X35       4818 non-null   object \n",
      " 35  X36       4818 non-null   object \n",
      " 36  X37       4818 non-null   object \n",
      " 37  X38       4818 non-null   object \n",
      " 38  X39       4818 non-null   float64\n",
      " 39  X40       4818 non-null   object \n",
      " 40  X41       4818 non-null   object \n",
      " 41  X42       4818 non-null   float64\n",
      " 42  X43       4818 non-null   float64\n",
      " 43  X44       4818 non-null   float64\n",
      " 44  X45       4818 non-null   object \n",
      " 45  X46       4818 non-null   object \n",
      " 46  X47       4818 non-null   object \n",
      " 47  X48       4818 non-null   object \n",
      " 48  X49       4818 non-null   float64\n",
      " 49  X50       4818 non-null   object \n",
      " 50  X51       4818 non-null   object \n",
      " 51  X52       4818 non-null   object \n",
      " 52  X53       4818 non-null   object \n",
      " 53  X54       4818 non-null   object \n",
      " 54  X55       4818 non-null   float64\n",
      " 55  X56       4818 non-null   float64\n",
      " 56  X57       4818 non-null   object \n",
      " 57  X58       4818 non-null   float64\n",
      " 58  X59       4818 non-null   object \n",
      " 59  X60       4818 non-null   object \n",
      " 60  X61       4818 non-null   object \n",
      " 61  X62       4818 non-null   float64\n",
      " 62  X63       4818 non-null   object \n",
      " 63  X64       4818 non-null   object \n",
      " 64  Bankrupt  4818 non-null   int64  \n",
      " 65  Id        4818 non-null   int64  \n",
      "dtypes: float64(16), int64(2), object(48)\n",
      "memory usage: 2.4+ MB\n"
     ]
    }
   ],
   "source": [
    "data.info()"
   ]
  },
  {
   "cell_type": "markdown",
   "metadata": {},
   "source": [
    "You may be puzzled:\n",
    "- Most attributes are `object` and *not* numeric (`float64`)\n",
    "- But looking at the data via `data.head()` certainly gives the impression that all attributes are numeric\n",
    "\n",
    "Welcome to the world of messy data !  The dataset has represented numbers as strings.\n",
    "- These little unexpected challenges are common in the real-word\n",
    "- Data is rarely perfect and clean"
   ]
  },
  {
   "cell_type": "markdown",
   "metadata": {},
   "source": [
    "So you might want to first convert all attributes to numeric\n",
    "\n",
    "**Hint**\n",
    "- Look up the Pandas method `to_numeric`\n",
    "    - We suggest you use the option `errors='coerce'`\n",
    "    "
   ]
  },
  {
   "cell_type": "code",
   "execution_count": 6,
   "metadata": {},
   "outputs": [
    {
     "name": "stdout",
     "output_type": "stream",
     "text": [
      "<class 'pandas.core.frame.DataFrame'>\n",
      "RangeIndex: 4818 entries, 0 to 4817\n",
      "Data columns (total 66 columns):\n",
      " #   Column    Non-Null Count  Dtype  \n",
      "---  ------    --------------  -----  \n",
      " 0   X1        4816 non-null   float64\n",
      " 1   X2        4816 non-null   float64\n",
      " 2   X3        4816 non-null   float64\n",
      " 3   X4        4803 non-null   float64\n",
      " 4   X5        4808 non-null   float64\n",
      " 5   X6        4816 non-null   float64\n",
      " 6   X7        4816 non-null   float64\n",
      " 7   X8        4804 non-null   float64\n",
      " 8   X9        4818 non-null   float64\n",
      " 9   X10       4816 non-null   float64\n",
      " 10  X11       4816 non-null   float64\n",
      " 11  X12       4803 non-null   float64\n",
      " 12  X13       4818 non-null   float64\n",
      " 13  X14       4816 non-null   float64\n",
      " 14  X15       4812 non-null   float64\n",
      " 15  X16       4804 non-null   float64\n",
      " 16  X17       4804 non-null   float64\n",
      " 17  X18       4816 non-null   float64\n",
      " 18  X19       4818 non-null   float64\n",
      " 19  X20       4818 non-null   float64\n",
      " 20  X21       4744 non-null   float64\n",
      " 21  X22       4816 non-null   float64\n",
      " 22  X23       4818 non-null   float64\n",
      " 23  X24       4702 non-null   float64\n",
      " 24  X25       4816 non-null   float64\n",
      " 25  X26       4804 non-null   float64\n",
      " 26  X27       4513 non-null   float64\n",
      " 27  X28       4735 non-null   float64\n",
      " 28  X29       4816 non-null   float64\n",
      " 29  X30       4818 non-null   float64\n",
      " 30  X31       4818 non-null   float64\n",
      " 31  X32       4776 non-null   float64\n",
      " 32  X33       4803 non-null   float64\n",
      " 33  X34       4804 non-null   float64\n",
      " 34  X35       4816 non-null   float64\n",
      " 35  X36       4816 non-null   float64\n",
      " 36  X37       2750 non-null   float64\n",
      " 37  X38       4816 non-null   float64\n",
      " 38  X39       4818 non-null   float64\n",
      " 39  X40       4803 non-null   float64\n",
      " 40  X41       4756 non-null   float64\n",
      " 41  X42       4818 non-null   float64\n",
      " 42  X43       4818 non-null   float64\n",
      " 43  X44       4818 non-null   float64\n",
      " 44  X45       4598 non-null   float64\n",
      " 45  X46       4803 non-null   float64\n",
      " 46  X47       4787 non-null   float64\n",
      " 47  X48       4816 non-null   float64\n",
      " 48  X49       4818 non-null   float64\n",
      " 49  X50       4804 non-null   float64\n",
      " 50  X51       4816 non-null   float64\n",
      " 51  X52       4786 non-null   float64\n",
      " 52  X53       4735 non-null   float64\n",
      " 53  X54       4735 non-null   float64\n",
      " 54  X55       4818 non-null   float64\n",
      " 55  X56       4818 non-null   float64\n",
      " 56  X57       4816 non-null   float64\n",
      " 57  X58       4818 non-null   float64\n",
      " 58  X59       4816 non-null   float64\n",
      " 59  X60       4598 non-null   float64\n",
      " 60  X61       4806 non-null   float64\n",
      " 61  X62       4818 non-null   float64\n",
      " 62  X63       4803 non-null   float64\n",
      " 63  X64       4735 non-null   float64\n",
      " 64  Bankrupt  4818 non-null   int64  \n",
      " 65  Id        4818 non-null   int64  \n",
      "dtypes: float64(64), int64(2)\n",
      "memory usage: 2.4 MB\n"
     ]
    }
   ],
   "source": [
    "data = data.apply(pd.to_numeric, errors='coerce')\n",
    "data.info()"
   ]
  },
  {
   "cell_type": "markdown",
   "metadata": {},
   "source": [
    "<font color=\"blue\" size=\"4\">​ Feature X37 has too many missing values (almost half of the column), so I discarded it."
   ]
  },
  {
   "cell_type": "code",
   "execution_count": 7,
   "metadata": {},
   "outputs": [
    {
     "name": "stdout",
     "output_type": "stream",
     "text": [
      "X37 2750\n"
     ]
    }
   ],
   "source": [
    "for col in data.columns:\n",
    "    if data[col].notna().sum()<4000:\n",
    "        print(col,data[col].notna().sum())"
   ]
  },
  {
   "cell_type": "code",
   "execution_count": 8,
   "metadata": {},
   "outputs": [],
   "source": [
    "data.drop('X37',axis=1,inplace=True)"
   ]
  },
  {
   "cell_type": "markdown",
   "metadata": {},
   "source": [
    "<font color=\"blue\" size=\"4\"> X_train contains all the 'X' features except X37, and company Id is not used in the model because it is not related to probability of going bankrupt."
   ]
  },
  {
   "cell_type": "code",
   "execution_count": 9,
   "metadata": {},
   "outputs": [],
   "source": [
    "cols = list(data.columns)\n",
    "cols.remove('Bankrupt')\n",
    "cols.remove('Id')"
   ]
  },
  {
   "cell_type": "markdown",
   "metadata": {},
   "source": [
    "<font color=\"blue\" size=\"4\"> Use KNN Imputer to fill all the missing values in X_train. KNN finds the nearest neighbors of a data point, which are companies with similar financial conditions, so they are more likely to be of the same class."
   ]
  },
  {
   "cell_type": "code",
   "execution_count": 10,
   "metadata": {},
   "outputs": [
    {
     "name": "stdout",
     "output_type": "stream",
     "text": [
      "<class 'pandas.core.frame.DataFrame'>\n",
      "RangeIndex: 4818 entries, 0 to 4817\n",
      "Data columns (total 63 columns):\n",
      " #   Column  Non-Null Count  Dtype  \n",
      "---  ------  --------------  -----  \n",
      " 0   X1      4818 non-null   float64\n",
      " 1   X2      4818 non-null   float64\n",
      " 2   X3      4818 non-null   float64\n",
      " 3   X4      4818 non-null   float64\n",
      " 4   X5      4818 non-null   float64\n",
      " 5   X6      4818 non-null   float64\n",
      " 6   X7      4818 non-null   float64\n",
      " 7   X8      4818 non-null   float64\n",
      " 8   X9      4818 non-null   float64\n",
      " 9   X10     4818 non-null   float64\n",
      " 10  X11     4818 non-null   float64\n",
      " 11  X12     4818 non-null   float64\n",
      " 12  X13     4818 non-null   float64\n",
      " 13  X14     4818 non-null   float64\n",
      " 14  X15     4818 non-null   float64\n",
      " 15  X16     4818 non-null   float64\n",
      " 16  X17     4818 non-null   float64\n",
      " 17  X18     4818 non-null   float64\n",
      " 18  X19     4818 non-null   float64\n",
      " 19  X20     4818 non-null   float64\n",
      " 20  X21     4818 non-null   float64\n",
      " 21  X22     4818 non-null   float64\n",
      " 22  X23     4818 non-null   float64\n",
      " 23  X24     4818 non-null   float64\n",
      " 24  X25     4818 non-null   float64\n",
      " 25  X26     4818 non-null   float64\n",
      " 26  X27     4818 non-null   float64\n",
      " 27  X28     4818 non-null   float64\n",
      " 28  X29     4818 non-null   float64\n",
      " 29  X30     4818 non-null   float64\n",
      " 30  X31     4818 non-null   float64\n",
      " 31  X32     4818 non-null   float64\n",
      " 32  X33     4818 non-null   float64\n",
      " 33  X34     4818 non-null   float64\n",
      " 34  X35     4818 non-null   float64\n",
      " 35  X36     4818 non-null   float64\n",
      " 36  X38     4818 non-null   float64\n",
      " 37  X39     4818 non-null   float64\n",
      " 38  X40     4818 non-null   float64\n",
      " 39  X41     4818 non-null   float64\n",
      " 40  X42     4818 non-null   float64\n",
      " 41  X43     4818 non-null   float64\n",
      " 42  X44     4818 non-null   float64\n",
      " 43  X45     4818 non-null   float64\n",
      " 44  X46     4818 non-null   float64\n",
      " 45  X47     4818 non-null   float64\n",
      " 46  X48     4818 non-null   float64\n",
      " 47  X49     4818 non-null   float64\n",
      " 48  X50     4818 non-null   float64\n",
      " 49  X51     4818 non-null   float64\n",
      " 50  X52     4818 non-null   float64\n",
      " 51  X53     4818 non-null   float64\n",
      " 52  X54     4818 non-null   float64\n",
      " 53  X55     4818 non-null   float64\n",
      " 54  X56     4818 non-null   float64\n",
      " 55  X57     4818 non-null   float64\n",
      " 56  X58     4818 non-null   float64\n",
      " 57  X59     4818 non-null   float64\n",
      " 58  X60     4818 non-null   float64\n",
      " 59  X61     4818 non-null   float64\n",
      " 60  X62     4818 non-null   float64\n",
      " 61  X63     4818 non-null   float64\n",
      " 62  X64     4818 non-null   float64\n",
      "dtypes: float64(63)\n",
      "memory usage: 2.3 MB\n"
     ]
    }
   ],
   "source": [
    "from sklearn.impute import KNNImputer\n",
    "\n",
    "X_train = data[cols]\n",
    "imputer = KNNImputer()\n",
    "X_train = imputer.fit_transform(X_train)\n",
    "X_train = pd.DataFrame(X_train, columns=cols)\n",
    "X_train.info()"
   ]
  },
  {
   "cell_type": "markdown",
   "metadata": {},
   "source": [
    "<font color=\"blue\" size=\"4\"> Plot the correlation matrix of X_train features in the form of a heat map. Many features are highly correlated with each other."
   ]
  },
  {
   "cell_type": "code",
   "execution_count": 11,
   "metadata": {},
   "outputs": [
    {
     "data": {
      "text/plain": [
       "<Figure size 1200x1000 with 0 Axes>"
      ]
     },
     "execution_count": 11,
     "metadata": {},
     "output_type": "execute_result"
    },
    {
     "data": {
      "text/plain": [
       "<Axes: >"
      ]
     },
     "execution_count": 11,
     "metadata": {},
     "output_type": "execute_result"
    },
    {
     "data": {
      "text/plain": [
       "Text(0.5, 1.0, 'Feature Correlation Heatmap')"
      ]
     },
     "execution_count": 11,
     "metadata": {},
     "output_type": "execute_result"
    },
    {
     "data": {
      "image/png": "[encoded data removed]",
      "text/plain": [
       "<Figure size 1200x1000 with 2 Axes>"
      ]
     },
     "metadata": {},
     "output_type": "display_data"
    }
   ],
   "source": [
    "import matplotlib.pyplot as plt\n",
    "import seaborn as sns\n",
    "\n",
    "corr_matrix = X_train.corr()\n",
    "\n",
    "plt.figure(figsize=(12, 10))\n",
    "sns.heatmap(corr_matrix, annot=True, fmt=\".2f\", cmap=\"coolwarm\")\n",
    "plt.title(\"Feature Correlation Heatmap\")\n",
    "plt.show()"
   ]
  },
  {
   "cell_type": "markdown",
   "metadata": {},
   "source": [
    "<font color=\"blue\" size=\"4\"> Highly correlated features may be redundant. Removing some of them may improve model performance by reducing overfitting on these features (as highly correlated features basically describe the same thing about the company's financial condition), and it may also reduce computation cost of the model. I will experiment with this later. We can use a simple for loop here to identify pairs of highly correlated features and drop one of them for each pair."
   ]
  },
  {
   "cell_type": "code",
   "execution_count": 12,
   "metadata": {},
   "outputs": [
    {
     "name": "stdout",
     "output_type": "stream",
     "text": [
      "Dropped columns: ['X22', 'X40', 'X35', 'X7', 'X18', 'X11', 'X38', 'X25', 'X49', 'X36', 'X26', 'X31', 'X60', 'X23', 'X14', 'X51', 'X17', 'X48', 'X34', 'X46', 'X56', 'X44', 'X50', 'X63', 'X24', 'X33', 'X16']\n"
     ]
    }
   ],
   "source": [
    "threshold = 0.95\n",
    "cols_to_drop = set()\n",
    "\n",
    "for i in range(len(cols)):\n",
    "    col1 = cols[i]\n",
    "    if col1 in cols_to_drop:\n",
    "        continue\n",
    "    for j in range(i+1, len(cols)):\n",
    "        col2 = cols[j]\n",
    "        if col2 in cols_to_drop:\n",
    "            continue\n",
    "        corr_value = X_train[col1].corr(X_train[col2])\n",
    "        if abs(corr_value) > threshold:\n",
    "            cols_to_drop.add(col2)\n",
    "redundant = list(cols_to_drop)           \n",
    "print(\"Dropped columns:\", redundant)"
   ]
  },
  {
   "cell_type": "markdown",
   "metadata": {},
   "source": [
    "<font color=\"blue\" size=\"4\"> Note that unless specifically indicated, otherwise the X_train I used in the following training modules is still the original one with the full set of features."
   ]
  },
  {
   "cell_type": "markdown",
   "metadata": {},
   "source": [
    "<font color=\"blue\" size=\"4\"> Standardize X_train by removing the mean and dividing by the standard deviation of each column, so all columns are on similar scales."
   ]
  },
  {
   "cell_type": "code",
   "execution_count": 13,
   "metadata": {},
   "outputs": [],
   "source": [
    "from sklearn.preprocessing import StandardScaler\n",
    "\n",
    "scaler = StandardScaler()\n",
    "\n",
    "X_train = scaler.fit_transform(X_train)\n",
    "X_train = pd.DataFrame(X_train, columns=cols)"
   ]
  },
  {
   "cell_type": "code",
   "execution_count": 14,
   "metadata": {},
   "outputs": [
    {
     "data": {
      "text/html": [
       "<div>\n",
       "<style scoped>\n",
       "    .dataframe tbody tr th:only-of-type {\n",
       "        vertical-align: middle;\n",
       "    }\n",
       "\n",
       "    .dataframe tbody tr th {\n",
       "        vertical-align: top;\n",
       "    }\n",
       "\n",
       "    .dataframe thead th {\n",
       "        text-align: right;\n",
       "    }\n",
       "</style>\n",
       "<table border=\"1\" class=\"dataframe\">\n",
       "  <thead>\n",
       "    <tr style=\"text-align: right;\">\n",
       "      <th></th>\n",
       "      <th>X1</th>\n",
       "      <th>X2</th>\n",
       "      <th>X3</th>\n",
       "      <th>X4</th>\n",
       "      <th>X5</th>\n",
       "      <th>X6</th>\n",
       "      <th>X7</th>\n",
       "      <th>X8</th>\n",
       "      <th>X9</th>\n",
       "      <th>X10</th>\n",
       "      <th>...</th>\n",
       "      <th>X55</th>\n",
       "      <th>X56</th>\n",
       "      <th>X57</th>\n",
       "      <th>X58</th>\n",
       "      <th>X59</th>\n",
       "      <th>X60</th>\n",
       "      <th>X61</th>\n",
       "      <th>X62</th>\n",
       "      <th>X63</th>\n",
       "      <th>X64</th>\n",
       "    </tr>\n",
       "  </thead>\n",
       "  <tbody>\n",
       "    <tr>\n",
       "      <th>0</th>\n",
       "      <td>0.012016</td>\n",
       "      <td>-0.095994</td>\n",
       "      <td>-0.103874</td>\n",
       "      <td>-0.038702</td>\n",
       "      <td>-0.006132</td>\n",
       "      <td>0.062188</td>\n",
       "      <td>0.010119</td>\n",
       "      <td>-0.041924</td>\n",
       "      <td>-0.308567</td>\n",
       "      <td>0.003410</td>\n",
       "      <td>...</td>\n",
       "      <td>-0.085603</td>\n",
       "      <td>0.113242</td>\n",
       "      <td>0.003610</td>\n",
       "      <td>-0.108583</td>\n",
       "      <td>-0.023625</td>\n",
       "      <td>-0.015223</td>\n",
       "      <td>-0.085663</td>\n",
       "      <td>-0.005784</td>\n",
       "      <td>-0.062866</td>\n",
       "      <td>-0.063752</td>\n",
       "    </tr>\n",
       "    <tr>\n",
       "      <th>1</th>\n",
       "      <td>0.004670</td>\n",
       "      <td>-0.268618</td>\n",
       "      <td>0.247639</td>\n",
       "      <td>-0.007971</td>\n",
       "      <td>0.000100</td>\n",
       "      <td>0.016518</td>\n",
       "      <td>0.002210</td>\n",
       "      <td>-0.019810</td>\n",
       "      <td>-0.444998</td>\n",
       "      <td>0.065451</td>\n",
       "      <td>...</td>\n",
       "      <td>0.339007</td>\n",
       "      <td>-0.098772</td>\n",
       "      <td>-0.007444</td>\n",
       "      <td>0.063191</td>\n",
       "      <td>-0.032174</td>\n",
       "      <td>-0.015221</td>\n",
       "      <td>-0.077805</td>\n",
       "      <td>-0.066265</td>\n",
       "      <td>0.039579</td>\n",
       "      <td>-0.054938</td>\n",
       "    </tr>\n",
       "    <tr>\n",
       "      <th>2</th>\n",
       "      <td>0.012776</td>\n",
       "      <td>-0.072403</td>\n",
       "      <td>0.004237</td>\n",
       "      <td>-0.034662</td>\n",
       "      <td>0.000676</td>\n",
       "      <td>0.045266</td>\n",
       "      <td>0.012184</td>\n",
       "      <td>-0.045170</td>\n",
       "      <td>-0.392286</td>\n",
       "      <td>-0.027054</td>\n",
       "      <td>...</td>\n",
       "      <td>-0.050400</td>\n",
       "      <td>-0.008166</td>\n",
       "      <td>0.007507</td>\n",
       "      <td>-0.010217</td>\n",
       "      <td>-0.003197</td>\n",
       "      <td>-0.015087</td>\n",
       "      <td>-0.189007</td>\n",
       "      <td>-0.031922</td>\n",
       "      <td>-0.051686</td>\n",
       "      <td>-0.061521</td>\n",
       "    </tr>\n",
       "    <tr>\n",
       "      <th>3</th>\n",
       "      <td>0.016027</td>\n",
       "      <td>-0.396458</td>\n",
       "      <td>0.276618</td>\n",
       "      <td>0.056376</td>\n",
       "      <td>0.017573</td>\n",
       "      <td>0.026559</td>\n",
       "      <td>0.015002</td>\n",
       "      <td>0.045984</td>\n",
       "      <td>-0.410683</td>\n",
       "      <td>0.026661</td>\n",
       "      <td>...</td>\n",
       "      <td>0.228298</td>\n",
       "      <td>-0.038299</td>\n",
       "      <td>0.008637</td>\n",
       "      <td>0.014195</td>\n",
       "      <td>-0.043070</td>\n",
       "      <td>-0.015218</td>\n",
       "      <td>-0.084347</td>\n",
       "      <td>-0.056477</td>\n",
       "      <td>-0.016291</td>\n",
       "      <td>-0.064221</td>\n",
       "    </tr>\n",
       "    <tr>\n",
       "      <th>4</th>\n",
       "      <td>0.008373</td>\n",
       "      <td>-0.029943</td>\n",
       "      <td>-0.052220</td>\n",
       "      <td>-0.037273</td>\n",
       "      <td>-0.003823</td>\n",
       "      <td>0.009006</td>\n",
       "      <td>0.006479</td>\n",
       "      <td>-0.044008</td>\n",
       "      <td>-0.213899</td>\n",
       "      <td>-0.000263</td>\n",
       "      <td>...</td>\n",
       "      <td>-0.114672</td>\n",
       "      <td>-0.100887</td>\n",
       "      <td>-0.002892</td>\n",
       "      <td>0.042544</td>\n",
       "      <td>-0.039956</td>\n",
       "      <td>-0.015254</td>\n",
       "      <td>-0.059123</td>\n",
       "      <td>-0.027600</td>\n",
       "      <td>-0.054338</td>\n",
       "      <td>-0.061339</td>\n",
       "    </tr>\n",
       "  </tbody>\n",
       "</table>\n",
       "<p>5 rows × 63 columns</p>\n",
       "</div>"
      ],
      "text/plain": [
       "         X1        X2        X3        X4        X5        X6        X7  \\\n",
       "0  0.012016 -0.095994 -0.103874 -0.038702 -0.006132  0.062188  0.010119   \n",
       "1  0.004670 -0.268618  0.247639 -0.007971  0.000100  0.016518  0.002210   \n",
       "2  0.012776 -0.072403  0.004237 -0.034662  0.000676  0.045266  0.012184   \n",
       "3  0.016027 -0.396458  0.276618  0.056376  0.017573  0.026559  0.015002   \n",
       "4  0.008373 -0.029943 -0.052220 -0.037273 -0.003823  0.009006  0.006479   \n",
       "\n",
       "         X8        X9       X10  ...       X55       X56       X57       X58  \\\n",
       "0 -0.041924 -0.308567  0.003410  ... -0.085603  0.113242  0.003610 -0.108583   \n",
       "1 -0.019810 -0.444998  0.065451  ...  0.339007 -0.098772 -0.007444  0.063191   \n",
       "2 -0.045170 -0.392286 -0.027054  ... -0.050400 -0.008166  0.007507 -0.010217   \n",
       "3  0.045984 -0.410683  0.026661  ...  0.228298 -0.038299  0.008637  0.014195   \n",
       "4 -0.044008 -0.213899 -0.000263  ... -0.114672 -0.100887 -0.002892  0.042544   \n",
       "\n",
       "        X59       X60       X61       X62       X63       X64  \n",
       "0 -0.023625 -0.015223 -0.085663 -0.005784 -0.062866 -0.063752  \n",
       "1 -0.032174 -0.015221 -0.077805 -0.066265  0.039579 -0.054938  \n",
       "2 -0.003197 -0.015087 -0.189007 -0.031922 -0.051686 -0.061521  \n",
       "3 -0.043070 -0.015218 -0.084347 -0.056477 -0.016291 -0.064221  \n",
       "4 -0.039956 -0.015254 -0.059123 -0.027600 -0.054338 -0.061339  \n",
       "\n",
       "[5 rows x 63 columns]"
      ]
     },
     "execution_count": 14,
     "metadata": {},
     "output_type": "execute_result"
    }
   ],
   "source": [
    "X_train.head()"
   ]
  },
  {
   "cell_type": "code",
   "execution_count": 15,
   "metadata": {},
   "outputs": [
    {
     "data": {
      "text/html": [
       "<div>\n",
       "<style scoped>\n",
       "    .dataframe tbody tr th:only-of-type {\n",
       "        vertical-align: middle;\n",
       "    }\n",
       "\n",
       "    .dataframe tbody tr th {\n",
       "        vertical-align: top;\n",
       "    }\n",
       "\n",
       "    .dataframe thead th {\n",
       "        text-align: right;\n",
       "    }\n",
       "</style>\n",
       "<table border=\"1\" class=\"dataframe\">\n",
       "  <thead>\n",
       "    <tr style=\"text-align: right;\">\n",
       "      <th></th>\n",
       "      <th>X1</th>\n",
       "      <th>X2</th>\n",
       "      <th>X3</th>\n",
       "      <th>X4</th>\n",
       "      <th>X5</th>\n",
       "      <th>X6</th>\n",
       "      <th>X7</th>\n",
       "      <th>X8</th>\n",
       "      <th>X9</th>\n",
       "      <th>X10</th>\n",
       "      <th>...</th>\n",
       "      <th>X55</th>\n",
       "      <th>X56</th>\n",
       "      <th>X57</th>\n",
       "      <th>X58</th>\n",
       "      <th>X59</th>\n",
       "      <th>X60</th>\n",
       "      <th>X61</th>\n",
       "      <th>X62</th>\n",
       "      <th>X63</th>\n",
       "      <th>X64</th>\n",
       "    </tr>\n",
       "  </thead>\n",
       "  <tbody>\n",
       "    <tr>\n",
       "      <th>count</th>\n",
       "      <td>4.818000e+03</td>\n",
       "      <td>4.818000e+03</td>\n",
       "      <td>4.818000e+03</td>\n",
       "      <td>4.818000e+03</td>\n",
       "      <td>4.818000e+03</td>\n",
       "      <td>4.818000e+03</td>\n",
       "      <td>4.818000e+03</td>\n",
       "      <td>4818.000000</td>\n",
       "      <td>4.818000e+03</td>\n",
       "      <td>4.818000e+03</td>\n",
       "      <td>...</td>\n",
       "      <td>4.818000e+03</td>\n",
       "      <td>4.818000e+03</td>\n",
       "      <td>4.818000e+03</td>\n",
       "      <td>4.818000e+03</td>\n",
       "      <td>4.818000e+03</td>\n",
       "      <td>4.818000e+03</td>\n",
       "      <td>4.818000e+03</td>\n",
       "      <td>4.818000e+03</td>\n",
       "      <td>4.818000e+03</td>\n",
       "      <td>4.818000e+03</td>\n",
       "    </tr>\n",
       "    <tr>\n",
       "      <th>mean</th>\n",
       "      <td>2.949534e-18</td>\n",
       "      <td>-2.064674e-17</td>\n",
       "      <td>-8.848602e-18</td>\n",
       "      <td>-1.474767e-18</td>\n",
       "      <td>-5.714722e-18</td>\n",
       "      <td>-1.474767e-18</td>\n",
       "      <td>-2.949534e-18</td>\n",
       "      <td>0.000000</td>\n",
       "      <td>-6.857667e-17</td>\n",
       "      <td>-9.585985e-18</td>\n",
       "      <td>...</td>\n",
       "      <td>4.424301e-18</td>\n",
       "      <td>1.474767e-18</td>\n",
       "      <td>-7.373835e-19</td>\n",
       "      <td>-3.097011e-17</td>\n",
       "      <td>4.792993e-18</td>\n",
       "      <td>-5.899068e-18</td>\n",
       "      <td>-8.111218e-18</td>\n",
       "      <td>-1.474767e-18</td>\n",
       "      <td>8.848602e-18</td>\n",
       "      <td>8.848602e-18</td>\n",
       "    </tr>\n",
       "    <tr>\n",
       "      <th>std</th>\n",
       "      <td>1.000104e+00</td>\n",
       "      <td>1.000104e+00</td>\n",
       "      <td>1.000104e+00</td>\n",
       "      <td>1.000104e+00</td>\n",
       "      <td>1.000104e+00</td>\n",
       "      <td>1.000104e+00</td>\n",
       "      <td>1.000104e+00</td>\n",
       "      <td>1.000104</td>\n",
       "      <td>1.000104e+00</td>\n",
       "      <td>1.000104e+00</td>\n",
       "      <td>...</td>\n",
       "      <td>1.000104e+00</td>\n",
       "      <td>1.000104e+00</td>\n",
       "      <td>1.000104e+00</td>\n",
       "      <td>1.000104e+00</td>\n",
       "      <td>1.000104e+00</td>\n",
       "      <td>1.000104e+00</td>\n",
       "      <td>1.000104e+00</td>\n",
       "      <td>1.000104e+00</td>\n",
       "      <td>1.000104e+00</td>\n",
       "      <td>1.000104e+00</td>\n",
       "    </tr>\n",
       "    <tr>\n",
       "      <th>min</th>\n",
       "      <td>-6.917474e+01</td>\n",
       "      <td>-4.433294e-01</td>\n",
       "      <td>-5.624420e+01</td>\n",
       "      <td>-5.029286e-02</td>\n",
       "      <td>-4.519415e+01</td>\n",
       "      <td>-5.964685e+01</td>\n",
       "      <td>-6.917025e+01</td>\n",
       "      <td>-0.087414</td>\n",
       "      <td>-1.176155e+00</td>\n",
       "      <td>-1.779646e+01</td>\n",
       "      <td>...</td>\n",
       "      <td>-1.363187e+01</td>\n",
       "      <td>-6.201367e+01</td>\n",
       "      <td>-6.467613e+01</td>\n",
       "      <td>-1.121389e+00</td>\n",
       "      <td>-2.923525e+01</td>\n",
       "      <td>-1.548339e-02</td>\n",
       "      <td>-2.545883e-01</td>\n",
       "      <td>-7.786630e-02</td>\n",
       "      <td>-8.251659e-02</td>\n",
       "      <td>-7.242232e-02</td>\n",
       "    </tr>\n",
       "    <tr>\n",
       "      <th>25%</th>\n",
       "      <td>8.830577e-03</td>\n",
       "      <td>-2.316240e-01</td>\n",
       "      <td>-1.130756e-01</td>\n",
       "      <td>-3.929113e-02</td>\n",
       "      <td>-2.626752e-03</td>\n",
       "      <td>9.006168e-03</td>\n",
       "      <td>7.221564e-03</td>\n",
       "      <td>-0.048848</td>\n",
       "      <td>-4.198449e-01</td>\n",
       "      <td>-4.572283e-02</td>\n",
       "      <td>...</td>\n",
       "      <td>-1.284734e-01</td>\n",
       "      <td>-5.908346e-02</td>\n",
       "      <td>-1.014332e-03</td>\n",
       "      <td>-8.864366e-02</td>\n",
       "      <td>-4.307025e-02</td>\n",
       "      <td>-1.522581e-02</td>\n",
       "      <td>-1.570794e-01</td>\n",
       "      <td>-5.809608e-02</td>\n",
       "      <td>-5.530449e-02</td>\n",
       "      <td>-6.238625e-02</td>\n",
       "    </tr>\n",
       "    <tr>\n",
       "      <th>50%</th>\n",
       "      <td>1.515971e-02</td>\n",
       "      <td>-6.798705e-02</td>\n",
       "      <td>2.211627e-02</td>\n",
       "      <td>-3.385856e-02</td>\n",
       "      <td>-8.073092e-04</td>\n",
       "      <td>9.006168e-03</td>\n",
       "      <td>1.478720e-02</td>\n",
       "      <td>-0.042703</td>\n",
       "      <td>-3.268153e-01</td>\n",
       "      <td>4.583595e-03</td>\n",
       "      <td>...</td>\n",
       "      <td>-1.075678e-01</td>\n",
       "      <td>-3.237665e-03</td>\n",
       "      <td>1.187396e-02</td>\n",
       "      <td>-9.395985e-03</td>\n",
       "      <td>-4.206577e-02</td>\n",
       "      <td>-1.517005e-02</td>\n",
       "      <td>-1.132391e-01</td>\n",
       "      <td>-4.545558e-02</td>\n",
       "      <td>-3.886003e-02</td>\n",
       "      <td>-5.887113e-02</td>\n",
       "    </tr>\n",
       "    <tr>\n",
       "      <th>75%</th>\n",
       "      <td>2.563364e-02</td>\n",
       "      <td>1.072814e-01</td>\n",
       "      <td>1.790783e-01</td>\n",
       "      <td>-2.090499e-02</td>\n",
       "      <td>1.278090e-03</td>\n",
       "      <td>2.320191e-02</td>\n",
       "      <td>2.661741e-02</td>\n",
       "      <td>-0.027531</td>\n",
       "      <td>1.748667e-01</td>\n",
       "      <td>5.392411e-02</td>\n",
       "      <td>...</td>\n",
       "      <td>-3.565112e-02</td>\n",
       "      <td>8.991632e-02</td>\n",
       "      <td>3.001791e-02</td>\n",
       "      <td>3.300584e-02</td>\n",
       "      <td>-1.045946e-02</td>\n",
       "      <td>-1.504019e-02</td>\n",
       "      <td>-4.271037e-02</td>\n",
       "      <td>-2.583792e-02</td>\n",
       "      <td>-1.095572e-02</td>\n",
       "      <td>-4.975898e-02</td>\n",
       "    </tr>\n",
       "    <tr>\n",
       "      <th>max</th>\n",
       "      <td>3.590389e-01</td>\n",
       "      <td>5.977510e+01</td>\n",
       "      <td>2.190832e+01</td>\n",
       "      <td>6.832365e+01</td>\n",
       "      <td>5.248540e+01</td>\n",
       "      <td>2.613392e+01</td>\n",
       "      <td>3.571101e-01</td>\n",
       "      <td>62.754368</td>\n",
       "      <td>2.698359e+01</td>\n",
       "      <td>6.588367e+01</td>\n",
       "      <td>...</td>\n",
       "      <td>5.071884e+01</td>\n",
       "      <td>1.249552e+00</td>\n",
       "      <td>1.213756e+01</td>\n",
       "      <td>5.022729e+01</td>\n",
       "      <td>4.858689e+01</td>\n",
       "      <td>6.940142e+01</td>\n",
       "      <td>2.923236e+01</td>\n",
       "      <td>5.583408e+01</td>\n",
       "      <td>6.751414e+01</td>\n",
       "      <td>4.961960e+01</td>\n",
       "    </tr>\n",
       "  </tbody>\n",
       "</table>\n",
       "<p>8 rows × 63 columns</p>\n",
       "</div>"
      ],
      "text/plain": [
       "                 X1            X2            X3            X4            X5  \\\n",
       "count  4.818000e+03  4.818000e+03  4.818000e+03  4.818000e+03  4.818000e+03   \n",
       "mean   2.949534e-18 -2.064674e-17 -8.848602e-18 -1.474767e-18 -5.714722e-18   \n",
       "std    1.000104e+00  1.000104e+00  1.000104e+00  1.000104e+00  1.000104e+00   \n",
       "min   -6.917474e+01 -4.433294e-01 -5.624420e+01 -5.029286e-02 -4.519415e+01   \n",
       "25%    8.830577e-03 -2.316240e-01 -1.130756e-01 -3.929113e-02 -2.626752e-03   \n",
       "50%    1.515971e-02 -6.798705e-02  2.211627e-02 -3.385856e-02 -8.073092e-04   \n",
       "75%    2.563364e-02  1.072814e-01  1.790783e-01 -2.090499e-02  1.278090e-03   \n",
       "max    3.590389e-01  5.977510e+01  2.190832e+01  6.832365e+01  5.248540e+01   \n",
       "\n",
       "                 X6            X7           X8            X9           X10  \\\n",
       "count  4.818000e+03  4.818000e+03  4818.000000  4.818000e+03  4.818000e+03   \n",
       "mean  -1.474767e-18 -2.949534e-18     0.000000 -6.857667e-17 -9.585985e-18   \n",
       "std    1.000104e+00  1.000104e+00     1.000104  1.000104e+00  1.000104e+00   \n",
       "min   -5.964685e+01 -6.917025e+01    -0.087414 -1.176155e+00 -1.779646e+01   \n",
       "25%    9.006168e-03  7.221564e-03    -0.048848 -4.198449e-01 -4.572283e-02   \n",
       "50%    9.006168e-03  1.478720e-02    -0.042703 -3.268153e-01  4.583595e-03   \n",
       "75%    2.320191e-02  2.661741e-02    -0.027531  1.748667e-01  5.392411e-02   \n",
       "max    2.613392e+01  3.571101e-01    62.754368  2.698359e+01  6.588367e+01   \n",
       "\n",
       "       ...           X55           X56           X57           X58  \\\n",
       "count  ...  4.818000e+03  4.818000e+03  4.818000e+03  4.818000e+03   \n",
       "mean   ...  4.424301e-18  1.474767e-18 -7.373835e-19 -3.097011e-17   \n",
       "std    ...  1.000104e+00  1.000104e+00  1.000104e+00  1.000104e+00   \n",
       "min    ... -1.363187e+01 -6.201367e+01 -6.467613e+01 -1.121389e+00   \n",
       "25%    ... -1.284734e-01 -5.908346e-02 -1.014332e-03 -8.864366e-02   \n",
       "50%    ... -1.075678e-01 -3.237665e-03  1.187396e-02 -9.395985e-03   \n",
       "75%    ... -3.565112e-02  8.991632e-02  3.001791e-02  3.300584e-02   \n",
       "max    ...  5.071884e+01  1.249552e+00  1.213756e+01  5.022729e+01   \n",
       "\n",
       "                X59           X60           X61           X62           X63  \\\n",
       "count  4.818000e+03  4.818000e+03  4.818000e+03  4.818000e+03  4.818000e+03   \n",
       "mean   4.792993e-18 -5.899068e-18 -8.111218e-18 -1.474767e-18  8.848602e-18   \n",
       "std    1.000104e+00  1.000104e+00  1.000104e+00  1.000104e+00  1.000104e+00   \n",
       "min   -2.923525e+01 -1.548339e-02 -2.545883e-01 -7.786630e-02 -8.251659e-02   \n",
       "25%   -4.307025e-02 -1.522581e-02 -1.570794e-01 -5.809608e-02 -5.530449e-02   \n",
       "50%   -4.206577e-02 -1.517005e-02 -1.132391e-01 -4.545558e-02 -3.886003e-02   \n",
       "75%   -1.045946e-02 -1.504019e-02 -4.271037e-02 -2.583792e-02 -1.095572e-02   \n",
       "max    4.858689e+01  6.940142e+01  2.923236e+01  5.583408e+01  6.751414e+01   \n",
       "\n",
       "                X64  \n",
       "count  4.818000e+03  \n",
       "mean   8.848602e-18  \n",
       "std    1.000104e+00  \n",
       "min   -7.242232e-02  \n",
       "25%   -6.238625e-02  \n",
       "50%   -5.887113e-02  \n",
       "75%   -4.975898e-02  \n",
       "max    4.961960e+01  \n",
       "\n",
       "[8 rows x 63 columns]"
      ]
     },
     "execution_count": 15,
     "metadata": {},
     "output_type": "execute_result"
    }
   ],
   "source": [
    "X_train.describe()"
   ]
  },
  {
   "cell_type": "markdown",
   "metadata": {},
   "source": [
    "<font color=\"blue\" size=\"4\"> X_train_dropped is the training set without (probably) redundant features"
   ]
  },
  {
   "cell_type": "code",
   "execution_count": 16,
   "metadata": {},
   "outputs": [
    {
     "name": "stdout",
     "output_type": "stream",
     "text": [
      "<class 'pandas.core.frame.DataFrame'>\n",
      "RangeIndex: 4818 entries, 0 to 4817\n",
      "Data columns (total 36 columns):\n",
      " #   Column  Non-Null Count  Dtype  \n",
      "---  ------  --------------  -----  \n",
      " 0   X1      4818 non-null   float64\n",
      " 1   X2      4818 non-null   float64\n",
      " 2   X3      4818 non-null   float64\n",
      " 3   X4      4818 non-null   float64\n",
      " 4   X5      4818 non-null   float64\n",
      " 5   X6      4818 non-null   float64\n",
      " 6   X8      4818 non-null   float64\n",
      " 7   X9      4818 non-null   float64\n",
      " 8   X10     4818 non-null   float64\n",
      " 9   X12     4818 non-null   float64\n",
      " 10  X13     4818 non-null   float64\n",
      " 11  X15     4818 non-null   float64\n",
      " 12  X19     4818 non-null   float64\n",
      " 13  X20     4818 non-null   float64\n",
      " 14  X21     4818 non-null   float64\n",
      " 15  X27     4818 non-null   float64\n",
      " 16  X28     4818 non-null   float64\n",
      " 17  X29     4818 non-null   float64\n",
      " 18  X30     4818 non-null   float64\n",
      " 19  X32     4818 non-null   float64\n",
      " 20  X39     4818 non-null   float64\n",
      " 21  X41     4818 non-null   float64\n",
      " 22  X42     4818 non-null   float64\n",
      " 23  X43     4818 non-null   float64\n",
      " 24  X45     4818 non-null   float64\n",
      " 25  X47     4818 non-null   float64\n",
      " 26  X52     4818 non-null   float64\n",
      " 27  X53     4818 non-null   float64\n",
      " 28  X54     4818 non-null   float64\n",
      " 29  X55     4818 non-null   float64\n",
      " 30  X57     4818 non-null   float64\n",
      " 31  X58     4818 non-null   float64\n",
      " 32  X59     4818 non-null   float64\n",
      " 33  X61     4818 non-null   float64\n",
      " 34  X62     4818 non-null   float64\n",
      " 35  X64     4818 non-null   float64\n",
      "dtypes: float64(36)\n",
      "memory usage: 1.3 MB\n"
     ]
    }
   ],
   "source": [
    "non_redundant = [col for col in cols if col not in cols_to_drop]\n",
    "X_train_dropped = X_train[non_redundant]\n",
    "X_train_dropped.info()"
   ]
  },
  {
   "cell_type": "markdown",
   "metadata": {},
   "source": [
    "# Evaluating your project"
   ]
  },
  {
   "cell_type": "markdown",
   "metadata": {},
   "source": [
    "We will evaluate your submission on a test dataset that we provide\n",
    "- It has no labels, so **you** can't use it to evaluate your model, but **we** have the labels\n",
    "- We will call this evaluation dataset the \"holdout\" data\n",
    "\n",
    "Let's get it"
   ]
  },
  {
   "cell_type": "code",
   "execution_count": 17,
   "metadata": {},
   "outputs": [
    {
     "name": "stdout",
     "output_type": "stream",
     "text": [
      "Data shape:  (1092, 65)\n"
     ]
    },
    {
     "data": {
      "text/html": [
       "<div>\n",
       "<style scoped>\n",
       "    .dataframe tbody tr th:only-of-type {\n",
       "        vertical-align: middle;\n",
       "    }\n",
       "\n",
       "    .dataframe tbody tr th {\n",
       "        vertical-align: top;\n",
       "    }\n",
       "\n",
       "    .dataframe thead th {\n",
       "        text-align: right;\n",
       "    }\n",
       "</style>\n",
       "<table border=\"1\" class=\"dataframe\">\n",
       "  <thead>\n",
       "    <tr style=\"text-align: right;\">\n",
       "      <th></th>\n",
       "      <th>X1</th>\n",
       "      <th>X2</th>\n",
       "      <th>X3</th>\n",
       "      <th>X4</th>\n",
       "      <th>X5</th>\n",
       "      <th>X6</th>\n",
       "      <th>X7</th>\n",
       "      <th>X8</th>\n",
       "      <th>X9</th>\n",
       "      <th>X10</th>\n",
       "      <th>...</th>\n",
       "      <th>X56</th>\n",
       "      <th>X57</th>\n",
       "      <th>X58</th>\n",
       "      <th>X59</th>\n",
       "      <th>X60</th>\n",
       "      <th>X61</th>\n",
       "      <th>X62</th>\n",
       "      <th>X63</th>\n",
       "      <th>X64</th>\n",
       "      <th>Id</th>\n",
       "    </tr>\n",
       "  </thead>\n",
       "  <tbody>\n",
       "    <tr>\n",
       "      <th>0</th>\n",
       "      <td>0.20839</td>\n",
       "      <td>0.26185</td>\n",
       "      <td>0.41039</td>\n",
       "      <td>2.5692</td>\n",
       "      <td>69.704</td>\n",
       "      <td>0</td>\n",
       "      <td>0.20839</td>\n",
       "      <td>2.819</td>\n",
       "      <td>1.641</td>\n",
       "      <td>0.73815</td>\n",
       "      <td>...</td>\n",
       "      <td>0.193390</td>\n",
       "      <td>0.28231</td>\n",
       "      <td>0.81043</td>\n",
       "      <td>0</td>\n",
       "      <td>52.04</td>\n",
       "      <td>4.6463</td>\n",
       "      <td>58.171</td>\n",
       "      <td>6.2747</td>\n",
       "      <td>5.0017</td>\n",
       "      <td>699</td>\n",
       "    </tr>\n",
       "    <tr>\n",
       "      <th>1</th>\n",
       "      <td>-0.19877</td>\n",
       "      <td>0.9368</td>\n",
       "      <td>-0.15579</td>\n",
       "      <td>0.83309</td>\n",
       "      <td>-57.414</td>\n",
       "      <td>0</td>\n",
       "      <td>-0.19877</td>\n",
       "      <td>0.067309</td>\n",
       "      <td>0.93406</td>\n",
       "      <td>0.063054</td>\n",
       "      <td>...</td>\n",
       "      <td>-0.159470</td>\n",
       "      <td>-3.1524</td>\n",
       "      <td>1.20510</td>\n",
       "      <td>0</td>\n",
       "      <td>56.348</td>\n",
       "      <td>1.3163</td>\n",
       "      <td>364.730</td>\n",
       "      <td>1.0007</td>\n",
       "      <td>4.202</td>\n",
       "      <td>539</td>\n",
       "    </tr>\n",
       "    <tr>\n",
       "      <th>2</th>\n",
       "      <td>0.35741</td>\n",
       "      <td>0.57153</td>\n",
       "      <td>0.34081</td>\n",
       "      <td>1.5991</td>\n",
       "      <td>4.4819</td>\n",
       "      <td>0</td>\n",
       "      <td>0.35741</td>\n",
       "      <td>0.74968</td>\n",
       "      <td>2.6993</td>\n",
       "      <td>0.42847</td>\n",
       "      <td>...</td>\n",
       "      <td>0.160800</td>\n",
       "      <td>0.83415</td>\n",
       "      <td>0.86775</td>\n",
       "      <td>0</td>\n",
       "      <td>8.6285</td>\n",
       "      <td>7.8131</td>\n",
       "      <td>76.926</td>\n",
       "      <td>4.7448</td>\n",
       "      <td>29.896</td>\n",
       "      <td>867</td>\n",
       "    </tr>\n",
       "    <tr>\n",
       "      <th>3</th>\n",
       "      <td>0.024312</td>\n",
       "      <td>0.45219</td>\n",
       "      <td>0.011469</td>\n",
       "      <td>1.0393</td>\n",
       "      <td>-831.06</td>\n",
       "      <td>0.006914</td>\n",
       "      <td>0.031273</td>\n",
       "      <td>1.2114</td>\n",
       "      <td>0.88188</td>\n",
       "      <td>0.54781</td>\n",
       "      <td>...</td>\n",
       "      <td>0.193770</td>\n",
       "      <td>0.044381</td>\n",
       "      <td>0.82091</td>\n",
       "      <td>0.29244</td>\n",
       "      <td>21.306</td>\n",
       "      <td>3.4388</td>\n",
       "      <td>120.850</td>\n",
       "      <td>3.0202</td>\n",
       "      <td>1.2661</td>\n",
       "      <td>595</td>\n",
       "    </tr>\n",
       "    <tr>\n",
       "      <th>4</th>\n",
       "      <td>0.075494</td>\n",
       "      <td>0.088948</td>\n",
       "      <td>0.56492</td>\n",
       "      <td>7.6065</td>\n",
       "      <td>74.299</td>\n",
       "      <td>0</td>\n",
       "      <td>0.10304</td>\n",
       "      <td>10.243</td>\n",
       "      <td>2.1253</td>\n",
       "      <td>0.91105</td>\n",
       "      <td>...</td>\n",
       "      <td>0.037832</td>\n",
       "      <td>0.082864</td>\n",
       "      <td>0.95227</td>\n",
       "      <td>0</td>\n",
       "      <td>15.437</td>\n",
       "      <td>8.391</td>\n",
       "      <td>14.685</td>\n",
       "      <td>24.855</td>\n",
       "      <td>6.0797</td>\n",
       "      <td>632</td>\n",
       "    </tr>\n",
       "  </tbody>\n",
       "</table>\n",
       "<p>5 rows × 65 columns</p>\n",
       "</div>"
      ],
      "text/plain": [
       "         X1        X2        X3       X4       X5        X6        X7  \\\n",
       "0   0.20839   0.26185   0.41039   2.5692   69.704         0   0.20839   \n",
       "1  -0.19877    0.9368  -0.15579  0.83309  -57.414         0  -0.19877   \n",
       "2   0.35741   0.57153   0.34081   1.5991   4.4819         0   0.35741   \n",
       "3  0.024312   0.45219  0.011469   1.0393  -831.06  0.006914  0.031273   \n",
       "4  0.075494  0.088948   0.56492   7.6065   74.299         0   0.10304   \n",
       "\n",
       "         X8       X9       X10  ...       X56       X57      X58      X59  \\\n",
       "0     2.819    1.641   0.73815  ...  0.193390   0.28231  0.81043        0   \n",
       "1  0.067309  0.93406  0.063054  ... -0.159470   -3.1524  1.20510        0   \n",
       "2   0.74968   2.6993   0.42847  ...  0.160800   0.83415  0.86775        0   \n",
       "3    1.2114  0.88188   0.54781  ...  0.193770  0.044381  0.82091  0.29244   \n",
       "4    10.243   2.1253   0.91105  ...  0.037832  0.082864  0.95227        0   \n",
       "\n",
       "      X60     X61      X62     X63     X64   Id  \n",
       "0   52.04  4.6463   58.171  6.2747  5.0017  699  \n",
       "1  56.348  1.3163  364.730  1.0007   4.202  539  \n",
       "2  8.6285  7.8131   76.926  4.7448  29.896  867  \n",
       "3  21.306  3.4388  120.850  3.0202  1.2661  595  \n",
       "4  15.437   8.391   14.685  24.855  6.0797  632  \n",
       "\n",
       "[5 rows x 65 columns]"
      ]
     },
     "execution_count": 17,
     "metadata": {},
     "output_type": "execute_result"
    }
   ],
   "source": [
    "holdout_data = pd.read_csv( os.path.join(DATA_DIR, \"holdout\", '5th_yr.csv') )\n",
    "\n",
    "print(\"Data shape: \", holdout_data.shape)\n",
    "holdout_data.head()"
   ]
  },
  {
   "cell_type": "markdown",
   "metadata": {},
   "source": [
    "We will evaluate your model on the holdout examples using metrics\n",
    "- Accuracy\n",
    "- Recall\n",
    "- Precision\n",
    "\n",
    "From our lecture: we may have to make a trade-off between Recall and Precision.\n",
    "\n",
    "Our evaluation of your submission will be partially based on how you made (and described) the trade-off.\n",
    "\n",
    "You may assume that it is 5 times worse to *fail to identify a company that will go bankrupt*\n",
    "than it is to fail to identify a company that won't go bankrupt."
   ]
  },
  {
   "cell_type": "markdown",
   "metadata": {},
   "source": [
    "<font color=\"blue\" size=\"4\"> The instruction means that false negative is 5 times worse than false positive. We should emphasize improving the true positive rate by increasing recall (True Positives / (True Positives + False Negatives)) over increasing precision, although an optimal model should do well in all three aspects (accuracy, precision, and recall)."
   ]
  },
  {
   "cell_type": "markdown",
   "metadata": {},
   "source": [
    "# Your model\n",
    "\n",
    "Time for you to continue the Recipe for Machine Learning on your own.\n",
    "\n"
   ]
  },
  {
   "cell_type": "code",
   "execution_count": 18,
   "metadata": {},
   "outputs": [],
   "source": [
    "y_train = data['Bankrupt']"
   ]
  },
  {
   "cell_type": "markdown",
   "metadata": {},
   "source": [
    "<font color=\"blue\" size=\"4\"> Here I trained a logistic regression model to predict bankruptcy using GridSearchCV. For hyperparameters, different values of C (which is inversely proportional to regularization power) and penalty terms (L1 vs L2) are tried. There are two GridSearch instances performed：the first looks for the hyperparameter set that has the highest accuracy score in cross validation (calculated as the average for all 5 folds) and the second looks for another set that has the highest recall score in cross validation. An optimal hyperparameter set will have both high accuracy and high recall."
   ]
  },
  {
   "cell_type": "markdown",
   "metadata": {},
   "source": [
    "<font color=\"blue\" size=\"5\"> For this cell and the cells that follow, I commented out the model training process and only printed the results."
   ]
  },
  {
   "cell_type": "code",
   "execution_count": 19,
   "metadata": {},
   "outputs": [
    {
     "name": "stdout",
     "output_type": "stream",
     "text": [
      "=== Best for Accuracy ===\n",
      "Best hyperparams: {'C': 0.01, 'penalty': 'l1', 'solver': 'liblinear'}\n",
      "Best CV accuracy: 0.9360733013620127\n",
      "\n",
      "=== Best for Recall ===\n",
      "Best hyperparams: {'C': 10, 'penalty': 'l1', 'solver': 'liblinear'}\n",
      "Best CV recall: 0.11692226335272342\n"
     ]
    }
   ],
   "source": [
    "from sklearn.linear_model import LogisticRegression\n",
    "from sklearn.model_selection import GridSearchCV\n",
    "\n",
    "\n",
    "# lr = LogisticRegression(max_iter=1000, random_state=42)\n",
    "\n",
    "\n",
    "# param_grid = {\n",
    "#     'C': [0.01, 0.05, 0.1, 0.5, 1, 5, 10],\n",
    "#      'penalty': ['l1', 'l2'],\n",
    "#     'solver': ['liblinear']  \n",
    "# }\n",
    "\n",
    "#  ###############################################################################\n",
    "#  # 1) Grid Search for Accuracy\n",
    "#  ###############################################################################\n",
    "# grid_search_acc = GridSearchCV(\n",
    "#      estimator=lr,\n",
    "#      param_grid=param_grid,\n",
    "#     scoring='accuracy',   \n",
    "#     cv=5,\n",
    "#     n_jobs=-1\n",
    "#  )\n",
    "# grid_search_acc.fit(X_train, y_train)\n",
    "\n",
    "# print(\"=== Best for Accuracy ===\")\n",
    "# print(\"Best hyperparams:\", grid_search_acc.best_params_)\n",
    "# print(\"Best CV accuracy:\", grid_search_acc.best_score_)\n",
    "\n",
    "# ###############################################################################\n",
    "# # 2) Grid Search for Recall\n",
    "# ###############################################################################\n",
    "# grid_search_rec = GridSearchCV(\n",
    "#     estimator=lr,\n",
    "#     param_grid=param_grid,\n",
    "#     scoring='recall',    \n",
    "#     cv=5,\n",
    "#     n_jobs=-1\n",
    "# )\n",
    "# grid_search_rec.fit(X_train, y_train)\n",
    "\n",
    "# print(\"\\n=== Best for Recall ===\")\n",
    "# print(\"Best hyperparams:\", grid_search_rec.best_params_)\n",
    "# print(\"Best CV recall:\", grid_search_rec.best_score_)\n",
    "print(\"=== Best for Accuracy ===\")\n",
    "print(\"Best hyperparams: {'C': 0.01, 'penalty': 'l1', 'solver': 'liblinear'}\")\n",
    "print(\"Best CV accuracy: 0.9360733013620127\")\n",
    "\n",
    "print(\"\\n=== Best for Recall ===\")\n",
    "print(\"Best hyperparams: {'C': 10, 'penalty': 'l1', 'solver': 'liblinear'}\")\n",
    "print(\"Best CV recall: 0.11692226335272342\")"
   ]
  },
  {
   "cell_type": "markdown",
   "metadata": {},
   "source": [
    "<font color=\"blue\" size=\"4\"> It can be seen that the two approaches lead to very different C values. The highest accuracy score is 0.94 which seems decent, but the highest recall that can be achieved is only 0.1, so only 1 in 10 comapnies that will go bankrupt is correctly identified, which is very bad. "
   ]
  },
  {
   "cell_type": "code",
   "execution_count": 20,
   "metadata": {},
   "outputs": [
    {
     "data": {
      "text/plain": [
       "0.0639269406392694"
      ]
     },
     "execution_count": 20,
     "metadata": {},
     "output_type": "execute_result"
    }
   ],
   "source": [
    "data['Bankrupt'].sum()/len(data['Bankrupt'])"
   ]
  },
  {
   "cell_type": "markdown",
   "metadata": {},
   "source": [
    "<font color=\"blue\" size=\"4\"> A closer look at the labels reveal that the two classes are very imbalanced: only about 6 percent of the companies in the training data actually go bankrupt, so the model may fail to learn the characteristics of companies that go bankrupt and predict all of them as negative (not bankrupt), which leads to high accuracy and low recall."
   ]
  },
  {
   "cell_type": "markdown",
   "metadata": {},
   "source": [
    "<font color=\"blue\" size=\"4\"> We can use SMOTE to create artificial samples for the minority class (statistically inferred from existing samples) to make sure the number of samples for the two classes are the same, thus the model can equally learn about the nature of the positive and negative classes."
   ]
  },
  {
   "cell_type": "code",
   "execution_count": 21,
   "metadata": {},
   "outputs": [],
   "source": [
    "from imblearn.over_sampling import SMOTE\n",
    "\n",
    "smote = SMOTE(random_state=42)\n",
    "X_train_resampled, y_train_resampled = smote.fit_resample(X_train, y_train)"
   ]
  },
  {
   "cell_type": "markdown",
   "metadata": {},
   "source": [
    "<font color=\"blue\" size=\"4\"> Since now we have the same number of bankrupt and non-bankrupt companies, the three metrics: accuracy, recall, and precision are better aligned together. For example, a low recall is going to lead to low accuracy because half of the training set is now positive(bankrupt)."
   ]
  },
  {
   "cell_type": "code",
   "execution_count": 22,
   "metadata": {},
   "outputs": [
    {
     "name": "stdout",
     "output_type": "stream",
     "text": [
      "=== Best for Accuracy ===\n",
      "Best hyperparams: {'C': 10, 'penalty': 'l1', 'solver': 'liblinear'}\n",
      "Best CV accuracy: 0.7958980044345898\n"
     ]
    }
   ],
   "source": [
    "#grid_search_acc.fit(X_train_resampled, y_train_resampled)\n",
    "\n",
    "print(\"=== Best for Accuracy ===\")\n",
    "print(\"Best hyperparams: {'C': 10, 'penalty': 'l1', 'solver': 'liblinear'}\")\n",
    "print(\"Best CV accuracy: 0.7958980044345898\")"
   ]
  },
  {
   "cell_type": "code",
   "execution_count": 23,
   "metadata": {},
   "outputs": [
    {
     "name": "stdout",
     "output_type": "stream",
     "text": [
      "\n",
      "=== Best for Recall ===\n",
      "Best hyperparams: {'C': 10, 'penalty': 'l1', 'solver': 'liblinear'}\n",
      "Best CV recall: 0.7731707317073171\n"
     ]
    }
   ],
   "source": [
    "#grid_search_rec.fit(X_train_resampled, y_train_resampled)\n",
    "\n",
    "print(\"\\n=== Best for Recall ===\")\n",
    "print(\"Best hyperparams: {'C': 10, 'penalty': 'l1', 'solver': 'liblinear'}\")\n",
    "print(\"Best CV recall: 0.7731707317073171\")"
   ]
  },
  {
   "cell_type": "markdown",
   "metadata": {},
   "source": [
    "<font color=\"blue\" size=\"4\"> I used SMOTE augmented data to re-train the logistic regression model and the same set of hyperparameters achieved both highest accuracy and highest recall. Note that the two scores are close to each other:0.80 and 0.77, supporting the statement I made above. From now on, I would use accuracy as the only metric."
   ]
  },
  {
   "cell_type": "markdown",
   "metadata": {},
   "source": [
    "<font color=\"blue\" size=\"5\"> Logistic regression is only a benchmark. Tree based models are likely to outperform it, so below I tried RandomForest and Xgboost, using RandomizedSearchCV with accuracy score as the criterion. RandomizedSearchCV enables us to randomly select hyperparameter values from a given range and distribution, like uniform distribution. The total number of hyperparameter sets tried is specified by the user. I still used SMOTE augmented data to train."
   ]
  },
  {
   "cell_type": "code",
   "execution_count": 24,
   "metadata": {},
   "outputs": [
    {
     "name": "stdout",
     "output_type": "stream",
     "text": [
      "Best hyperparameters: {'max_depth': 22, 'max_features': 0.4845545349848576, 'max_samples': 0.9208787923016158, 'min_samples_leaf': 1, 'min_samples_split': 2, 'n_estimators': 120}\n",
      "Best CV score: 0.9648558758314856\n"
     ]
    }
   ],
   "source": [
    "from sklearn.ensemble import RandomForestClassifier\n",
    "\n",
    "#rf = RandomForestClassifier(random_state=42)\n",
    "\n",
    "# param_dist = {\n",
    "#     'n_estimators': randint(50, 300),       \n",
    "#     'max_depth': randint(10, 30),            \n",
    "#     'min_samples_split': randint(2, 10),    \n",
    "#     'min_samples_leaf': randint(1, 10),     \n",
    "#     'max_features': uniform(0.4, 0.6),\n",
    "#     'max_samples': uniform(0.6,0.4)\n",
    "# }\n",
    "\n",
    "# rand_search_rf = RandomizedSearchCV(\n",
    "#     estimator=rf,\n",
    "#     param_distributions=param_dist,\n",
    "#     n_iter=100,             \n",
    "#     scoring='accuracy',    \n",
    "#     cv=5,                  \n",
    "#     random_state=42,       \n",
    "#     n_jobs=-1              \n",
    "# )\n",
    "\n",
    "# rand_search_rf.fit(X_train_resampled, y_train_resampled)\n",
    "\n",
    "# print(\"Best hyperparameters:\", rand_search_rf.best_params_)\n",
    "# print(\"Best CV score:\", rand_search_rf.best_score_)\n",
    "\n",
    "print(\"Best hyperparameters: {'max_depth': 22, 'max_features': 0.4845545349848576, 'max_samples': 0.9208787923016158, 'min_samples_leaf': 1, 'min_samples_split': 2, 'n_estimators': 120}\")\n",
    "print(\"Best CV score: 0.9648558758314856\")"
   ]
  },
  {
   "cell_type": "markdown",
   "metadata": {},
   "source": [
    "<font color=\"blue\" size=\"4\"> Features like number of trees, tree max depth and proportion of total features considered for each split can prevent trees from becoming too complicated and overfitting on data. The highest cross validation accuracy score is 0.96 for RandomForest."
   ]
  },
  {
   "cell_type": "markdown",
   "metadata": {},
   "source": [
    "<font color=\"blue\" size=\"4\"> Xgboost has some similar hyperparameters like RandomForest due to tree-based nature, but since it's boosting we can choose different learning rates. Xgboost also comes with built-in regularization effects (L1 & L2). The highest cross validated accuracy score is 0.98 for Xgboost."
   ]
  },
  {
   "cell_type": "markdown",
   "metadata": {},
   "source": [
    "<font color=\"red\" size=\"5\"> The RandomizedSearch below yielded the final Xgboost model I used in MyModel() for grading. "
   ]
  },
  {
   "cell_type": "code",
   "execution_count": 25,
   "metadata": {},
   "outputs": [
    {
     "name": "stdout",
     "output_type": "stream",
     "text": [
      "Best hyperparameters: {'colsample_bytree': 0.8916028672163949, 'learning_rate': 0.1565413658703297, 'max_depth': 7, 'n_estimators': 283, 'subsample': 0.7433862914177091}\n",
      "Best CV score: 0.982039911308204\n"
     ]
    }
   ],
   "source": [
    "from xgboost import XGBClassifier\n",
    "from sklearn.model_selection import RandomizedSearchCV\n",
    "from scipy.stats import randint, uniform\n",
    "\n",
    "# xgb = XGBClassifier(eval_metric='logloss',random_state=42)\n",
    "\n",
    "# param_dist = {\n",
    "#     'n_estimators': randint(50, 300),      \n",
    "#     'max_depth': randint(3, 15),            \n",
    "#     'learning_rate': uniform(0.01, 0.19),     \n",
    "#     'subsample': uniform(0.6, 0.4),           \n",
    "#     'colsample_bytree': uniform(0.6, 0.4)\n",
    "# }\n",
    "\n",
    "# rand_search = RandomizedSearchCV(\n",
    "#     estimator=xgb,\n",
    "#     param_distributions=param_dist,\n",
    "#     n_iter=100,           \n",
    "#     scoring='accuracy',  \n",
    "#     cv=5,\n",
    "#     random_state=42,\n",
    "#     refit=True,\n",
    "#     n_jobs=-1\n",
    "# )\n",
    "\n",
    "# rand_search.fit(X_train_resampled, y_train_resampled)\n",
    "\n",
    "# print(\"Best hyperparameters:\", rand_search.best_params_)\n",
    "# print(\"Best CV score:\", rand_search.best_score_)\n",
    "\n",
    "print(\"Best hyperparameters: {'colsample_bytree': 0.8916028672163949, 'learning_rate': 0.1565413658703297, 'max_depth': 7, 'n_estimators': 283, 'subsample': 0.7433862914177091}\")\n",
    "print(\"Best CV score: 0.982039911308204\")"
   ]
  },
  {
   "cell_type": "markdown",
   "metadata": {},
   "source": [
    "<font color=\"blue\" size=\"4\"> The Xgboost model can achieve 100% accuracy for in-sample training data from the original dataset (not generated by SMOTE) "
   ]
  },
  {
   "cell_type": "code",
   "execution_count": 26,
   "metadata": {},
   "outputs": [
    {
     "name": "stdout",
     "output_type": "stream",
     "text": [
      "1.0\n"
     ]
    }
   ],
   "source": [
    "from sklearn.metrics import accuracy_score, recall_score, precision_score\n",
    "#accuracy_score(y_train, rand_search.best_estimator_.predict(X_train))\n",
    "print(1.0)"
   ]
  },
  {
   "cell_type": "markdown",
   "metadata": {},
   "source": [
    "<font color=\"blue\" size=\"4\"> As I mentioned previously, some features are highly correlated. Here I experimented with the training set X_train_dropped that only kept features with abs(correlation)<0.95, also augmented by SMOTE. "
   ]
  },
  {
   "cell_type": "code",
   "execution_count": 27,
   "metadata": {},
   "outputs": [],
   "source": [
    "dropped_smote = SMOTE(random_state=42)\n",
    "X_train_dropped_resampled, y_train_dropped_resampled = smote.fit_resample(X_train_dropped, y_train)"
   ]
  },
  {
   "cell_type": "code",
   "execution_count": 28,
   "metadata": {},
   "outputs": [
    {
     "name": "stdout",
     "output_type": "stream",
     "text": [
      "Best hyperparameters: {'colsample_bytree': 0.8916028672163949, 'learning_rate': 0.1565413658703297, 'max_depth': 7, 'n_estimators': 283, 'subsample': 0.7433862914177091}\n",
      "Best CV score: 0.9742793791574279\n"
     ]
    }
   ],
   "source": [
    "# xgb_dropped = XGBClassifier(eval_metric='logloss',random_state=42)\n",
    "\n",
    "# param_dist = {\n",
    "#     'n_estimators': randint(50, 300),      \n",
    "#     'max_depth': randint(3, 15),            \n",
    "#     'learning_rate': uniform(0.01, 0.19),     \n",
    "#     'subsample': uniform(0.6, 0.4),           \n",
    "#     'colsample_bytree': uniform(0.6, 0.4)\n",
    "# }\n",
    "\n",
    "# rand_search_dropped = RandomizedSearchCV(\n",
    "#     estimator=xgb_dropped,\n",
    "#     param_distributions=param_dist,\n",
    "#     n_iter=100,           \n",
    "#     scoring='accuracy',  \n",
    "#     cv=5,\n",
    "#     random_state=42,\n",
    "#     refit=True,\n",
    "#     n_jobs=-1\n",
    "# )\n",
    "\n",
    "# rand_search_dropped.fit(X_train_dropped_resampled, y_train_dropped_resampled)\n",
    "\n",
    "# print(\"Best hyperparameters:\", rand_search_dropped.best_params_)\n",
    "# print(\"Best CV score:\", rand_search_dropped.best_score_)\n",
    "\n",
    "print(\"Best hyperparameters: {'colsample_bytree': 0.8916028672163949, 'learning_rate': 0.1565413658703297, 'max_depth': 7, 'n_estimators': 283, 'subsample': 0.7433862914177091}\")\n",
    "print(\"Best CV score: 0.9742793791574279\")"
   ]
  },
  {
   "cell_type": "markdown",
   "metadata": {},
   "source": [
    "<font color=\"blue\" size=\"4\"> Highest accuracy achieved is 0.97, very close to the last model, so it could be reasoned that dropping these features would not really hurt model performance. Due to time limit I would not go further, but we could experiment with different correlation threshold in the future."
   ]
  },
  {
   "cell_type": "markdown",
   "metadata": {},
   "source": [
    "## Submission guidelines\n",
    "\n",
    "Although your notebook may contain many models (e.g., due to your iterative development)\n",
    "we will only evaluate a single model.\n",
    "\n",
    "So choose one (explain why !) and obey the following guidelines."
   ]
  },
  {
   "cell_type": "markdown",
   "metadata": {},
   "source": [
    "The objective of creating the guideline is to simplify the evaluation of your model.\n",
    "\n",
    "We have specified this by requiring you to implement a function called `MyModel`\n",
    "- which takes an unlabeled holdout dataset (one example per row)\n",
    "- and returns an array of predictions (one per holdout example)\n",
    "\n",
    "We will evaluate your model by passing a holdout dataset into your implemention of `MyModel`\n",
    "\n",
    "- obtaining predictions\n",
    "- evaluating the predictions against metrics such as Accuracy and Recall\n",
    "\n",
    "\n",
    "\n",
    "\n",
    "\n",
    "\n",
    "\n",
    "\n",
    "\n"
   ]
  },
  {
   "cell_type": "markdown",
   "metadata": {},
   "source": [
    "To be specific:\n",
    "\n",
    "You will implement the body of a subroutine `MyModel`\n",
    "\n",
    "The subroutine\n",
    "- takes as argument a Pandas DataFrame \n",
    "    - Each row is an example on which to predict\n",
    "    - The features of the example are elements of the row\n",
    "- Performs predictions on each example\n",
    "- Returns an array of predictions with a one-to-one correspondence with the examples in the test set"
   ]
  },
  {
   "cell_type": "markdown",
   "metadata": {},
   "source": [
    "Here is what `MyModel` should look like:\n",
    "\n",
    "\n",
    "    def MyModel(data, other={}):\n",
    "        \"\"\"\n",
    "        Parameters\n",
    "        -----------\n",
    "        data: a Pandas DataFrame\n",
    "        other: a dict\n",
    "            You can use this to pass any other arguments you find are necessary\n",
    "            \n",
    "        Returns\n",
    "        -------\n",
    "        pred: an array of predicted values\n",
    "            The number of elements (i.e., predictions) is equal to the number of examples in the 'data' parameter\n",
    "                i.e., one prediction per example\n",
    "        \"\"\"\n",
    "        \n",
    "        # The function should create an array of predictions; we initialize it to the empty array for convenience\n",
    "        pred = []\n",
    "   \n",
    "        # YOUR CODE HERE\n",
    "        \n",
    "        return pred\n",
    "\n",
    "Your code should follow the comment `# YOUR CODE HERE`"
   ]
  },
  {
   "cell_type": "markdown",
   "metadata": {},
   "source": [
    "<font color=\"blue\" size=\"4\"> If not already done so, re-run the whole notebook when grading so this cell can work properly."
   ]
  },
  {
   "cell_type": "code",
   "execution_count": 29,
   "metadata": {},
   "outputs": [],
   "source": [
    "def MyModel(data, other={}):\n",
    "    data1 = data[cols]\n",
    "    data1 = data1.apply(pd.to_numeric, errors='coerce')\n",
    "    data1 = imputer.fit_transform(data1)\n",
    "    data_standardized = scaler.fit_transform(data1)\n",
    "    model = XGBClassifier(eval_metric='logloss', colsample_bytree = 0.8916028672163949, learning_rate = 0.1565413658703297, max_depth = 7, n_estimators = 283, subsample = 0.7433862914177091, random_state=42)\n",
    "    model.fit(X_train_resampled,y_train_resampled)\n",
    "    pred = model.predict(data_standardized)\n",
    "    return pred"
   ]
  },
  {
   "cell_type": "code",
   "execution_count": 30,
   "metadata": {},
   "outputs": [
    {
     "data": {
      "text/plain": [
       "1092"
      ]
     },
     "execution_count": 30,
     "metadata": {},
     "output_type": "execute_result"
    }
   ],
   "source": [
    "y_hold_pred = MyModel(holdout_data)\n",
    "len(y_hold_pred)"
   ]
  },
  {
   "cell_type": "markdown",
   "metadata": {},
   "source": [
    "We will evaluate your model against the holdout data\n",
    "- By reading the holdout examples `X_hold` (as above)\n",
    "- Calling `y_hold_pred = MyModel(X_hold, other)` to get the predictions\n",
    "- Comparing the predicted values `y_hold_pred` against the true labels `y_hold` which are known only to the instructors\n",
    "\n",
    "See the following cell as an illustration"
   ]
  },
  {
   "cell_type": "raw",
   "metadata": {},
   "source": [
    "X_hold = pd.read_csv( os.path.join(DATA_DIR, \"holdout\", '5th_yr.csv') )\n",
    "\n",
    "# You may provide additional arguments to MyModel by placing them in the dict called other\n",
    "# YOUR CODE HERE: replace the empty dict with your own.  You may leave it empty if no other arguments are needed\n",
    "other = {}\n",
    "\n",
    "# Predict using MyModel\n",
    "y_hold_pred = MyModel(X_hold, other)\n",
    "\n",
    "# Compute metrics\n",
    "# accuracy\n",
    "accuracy_hold = accuracy_score(y_hold, y_hold_pred)\n",
    "\n",
    "# recall_\n",
    "recall_hold = recall_score(y_hold, y_hold_pred, pos_label=1, average=\"binary\")\n",
    "\n",
    "# precision\n",
    "precision_hold = precision_score(y_hold,   y_hold_pred, pos_label=1, average=\"binary\")\n",
    "\n",
    "\n",
    "print(\"\\t{m:s} Accuracy: {a:3.1%}, Recall {r:3.1%}, Precision {p:3.1%}\".format(m=name,\n",
    "                                                                            a=accuracy_hold,\n",
    "                                                                            r=recall_hold,\n",
    "                                                                            p=precision_hold\n",
    "                                                                            )\n",
    "         )"
   ]
  },
  {
   "cell_type": "markdown",
   "metadata": {},
   "source": [
    "**Remember**\n",
    "\n",
    "The holdout data is in the same format as the one we used for training\n",
    "- Except that it has no attribute for the target\n",
    "- So you will need to perform all the transformations on the holdout data\n",
    "    - As you did on the training data\n",
    "    - Including turning the string representation of numbers into actual numeric data types\n",
    "\n",
    "All of this work *must* be performed within the body of the `MyModel` routine you will write\n",
    "\n",
    "We will grade you by comparing the predictions array you create to the answers known to us."
   ]
  },
  {
   "cell_type": "markdown",
   "metadata": {},
   "source": [
    "# Check your work: predict and evaluate metrics on *your* test examples\n",
    "\n",
    "Although only the instructors have the correct labels for the holdout dataset, you may want\n",
    "to create your own test dataset on which to evaluate your out of sample metrics.\n",
    "\n",
    "If you choose to do so, you can evaluate your models using the same metrics that the instructors will use.\n",
    "\n",
    "- Test whether your implementation of `MyModel` works\n",
    "- See the metrics  your model produces"
   ]
  },
  {
   "cell_type": "code",
   "execution_count": 31,
   "metadata": {},
   "outputs": [],
   "source": [
    "# name = \"Choose a descriptive name for your model\"\n",
    "# y_test_pred = MyModel(X_test, other)\n",
    "\n",
    "# accuracy_test = accuracy_score(y_test, y_test_pred)\n",
    "# recall_test = recall_score(y_test, y_test_pred, pos_label=1, average=\"binary\")\n",
    "# precision_test = precision_score(y_test,   y_test_pred, pos_label=1, average=\"binary\")\n",
    "\n",
    "# print(\"\\t{m:s} Accuracy: {a:3.1%}, Recall {r:3.1%}, Precision {p:3.1%}\".format(m=name,\n",
    "#                                                                             a=accuracy_test,\n",
    "#                                                                             r=recall_test,\n",
    "#                                                                             p=precision_test\n",
    "#                                                                             )\n",
    "#          )"
   ]
  }
 ],
 "metadata": {
  "kernelspec": {
   "display_name": "Python 3 (ipykernel)",
   "language": "python",
   "name": "python3"
  },
  "language_info": {
   "codemirror_mode": {
    "name": "ipython",
    "version": 3
   },
   "file_extension": ".py",
   "mimetype": "text/x-python",
   "name": "python",
   "nbconvert_exporter": "python",
   "pygments_lexer": "ipython3",
   "version": "3.11.7"
  },
  "toc": {
   "base_numbering": 1,
   "nav_menu": {},
   "number_sections": true,
   "sideBar": true,
   "skip_h1_title": false,
   "title_cell": "Table of Contents",
   "title_sidebar": "Contents",
   "toc_cell": false,
   "toc_position": {
    "height": "calc(100% - 180px)",
    "left": "10px",
    "top": "150px",
    "width": "370.594px"
   },
   "toc_section_display": true,
   "toc_window_display": false
  }
 },
 "nbformat": 4,
 "nbformat_minor": 2
}
